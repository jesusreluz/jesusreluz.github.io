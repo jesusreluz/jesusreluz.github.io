{
 "cells": [
  {
   "cell_type": "code",
   "execution_count": 5,
   "metadata": {},
   "outputs": [],
   "source": [
    "from turtle import *\n",
    "getscreen()\n",
    "bgcolor('light pink')\n",
    "color('red')\n",
    "begin_fill()\n",
    "pensize(3)\n",
    "left(50)\n",
    "forward(133)\n",
    "circle(50,200)\n",
    "right(140)\n",
    "circle(50,200)\n",
    "forward(133)\n",
    "end_fill()\n",
    "penup()\n",
    "goto(0,100)\n",
    "pendown()\n",
    "style = ('Courier', 15, 'bold')\n",
    "color('white')\n",
    "write('Me gustas', font=style, align='center')\n",
    "hideturtle()\n",
    "done()"
   ]
  }
 ],
 "metadata": {
  "kernelspec": {
   "display_name": "Python 3",
   "language": "python",
   "name": "python3"
  },
  "language_info": {
   "codemirror_mode": {
    "name": "ipython",
    "version": 3
   },
   "file_extension": ".py",
   "mimetype": "text/x-python",
   "name": "python",
   "nbconvert_exporter": "python",
   "pygments_lexer": "ipython3",
   "version": "3.11.4"
  },
  "orig_nbformat": 4
 },
 "nbformat": 4,
 "nbformat_minor": 2
}
